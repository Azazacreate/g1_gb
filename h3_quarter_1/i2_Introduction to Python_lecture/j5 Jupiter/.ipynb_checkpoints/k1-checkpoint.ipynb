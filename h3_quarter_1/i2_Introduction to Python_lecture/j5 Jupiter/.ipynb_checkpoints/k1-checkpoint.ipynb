{
 "cells": [
  {
   "cell_type": "markdown",
   "id": "5eab6e6f-9390-40bd-91cd-75dc9f1d6f9b",
   "metadata": {},
   "source": [
    "markdown"
   ]
  },
  {
   "cell_type": "code",
   "execution_count": null,
   "id": "143d64b1-106e-42fd-838e-abaa89f04153",
   "metadata": {},
   "outputs": [],
   "source": []
  }
 ],
 "metadata": {
  "kernelspec": {
   "display_name": "Python 3 (ipykernel)",
   "language": "python",
   "name": "python3"
  },
  "language_info": {
   "codemirror_mode": {
    "name": "ipython",
    "version": 3
   },
   "file_extension": ".py",
   "mimetype": "text/x-python",
   "name": "python",
   "nbconvert_exporter": "python",
   "pygments_lexer": "ipython3",
   "version": "3.12.4"
  }
 },
 "nbformat": 4,
 "nbformat_minor": 5
}
