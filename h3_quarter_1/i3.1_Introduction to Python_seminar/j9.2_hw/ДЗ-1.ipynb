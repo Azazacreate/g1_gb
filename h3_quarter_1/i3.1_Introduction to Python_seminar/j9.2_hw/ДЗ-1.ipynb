{
 "cells": [
  {
   "cell_type": "markdown",
   "id": "b39c055a-92bb-4d81-b19b-9c1731fb2092",
   "metadata": {},
   "source": [
    "### ДЗ-1\n",
    "Задача 1: Работать с файлом california_housing_train.csv, который находится в папке sample_data. Определить среднюю стоимость дома, где кол-во людей от 0 до 500 (population)\r\n",
    "Задача 2: Узнать какая максимальная households в зоне минимального значения population"
   ]
  },
  {
   "cell_type": "code",
   "execution_count": 27,
   "id": "6e949070-6b51-4ad7-9596-ee2559c2245a",
   "metadata": {},
   "outputs": [
    {
     "data": {
      "text/plain": [
       "189222.81188118813"
      ]
     },
     "execution_count": 27,
     "metadata": {},
     "output_type": "execute_result"
    }
   ],
   "source": [
    "import pandas as pd\n",
    "\n",
    "df = pd.read_csv(\"california_housing_test.csv\")\n",
    "df[df[\"population\"] < 500][\"median_house_value\"].mean()\n",
    "# df.mean()"
   ]
  },
  {
   "cell_type": "markdown",
   "id": "3934aa4d-91fd-4af1-aff1-d65de757eba8",
   "metadata": {},
   "source": [
    "#### task-2"
   ]
  },
  {
   "cell_type": "code",
   "execution_count": 55,
   "id": "e89164db-d546-42ff-bfe7-b3f66de2d8c3",
   "metadata": {},
   "outputs": [
    {
     "data": {
      "text/plain": [
       "3.0"
      ]
     },
     "execution_count": 55,
     "metadata": {},
     "output_type": "execute_result"
    }
   ],
   "source": [
    "df[df[\"population\"] == df[\"population\"].min()][\"households\"].max()"
   ]
  },
  {
   "cell_type": "code",
   "execution_count": null,
   "id": "e4de7609-cbd2-4676-a584-2c46fb97b6f9",
   "metadata": {},
   "outputs": [],
   "source": []
  }
 ],
 "metadata": {
  "kernelspec": {
   "display_name": "Python 3 (ipykernel)",
   "language": "python",
   "name": "python3"
  },
  "language_info": {
   "codemirror_mode": {
    "name": "ipython",
    "version": 3
   },
   "file_extension": ".py",
   "mimetype": "text/x-python",
   "name": "python",
   "nbconvert_exporter": "python",
   "pygments_lexer": "ipython3",
   "version": "3.12.4"
  }
 },
 "nbformat": 4,
 "nbformat_minor": 5
}
