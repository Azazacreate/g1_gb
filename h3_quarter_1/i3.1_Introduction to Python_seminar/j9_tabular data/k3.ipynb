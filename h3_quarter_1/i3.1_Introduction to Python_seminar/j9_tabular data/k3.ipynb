{
 "cells": [
  {
   "cell_type": "markdown",
   "id": "6bb2cc91-64b6-44f6-a4ac-807d3595a46e",
   "metadata": {},
   "source": [
    "Задача No3. Решение в группах\n",
    "1. Определить какое максимальное и минимальное значение median_house_value\n",
    "2. Показать максимальное median_house_value, где median_income = 3.1250\n",
    "3. Узнать какая максимальная population в зоне минимального значения median_house_value"
   ]
  },
  {
   "cell_type": "code",
   "execution_count": 10,
   "id": "29cf26d0-98ad-4dce-b36e-f7d2484d0c04",
   "metadata": {},
   "outputs": [
    {
     "data": {
      "text/plain": [
       "500001.0"
      ]
     },
     "execution_count": 10,
     "metadata": {},
     "output_type": "execute_result"
    }
   ],
   "source": [
    "import pandas as pd\n",
    "\n",
    "df = pd.read_csv(\"california_housing_test.csv\")\n",
    "df[\"median_house_value\"].max()"
   ]
  },
  {
   "cell_type": "code",
   "execution_count": 11,
   "id": "44b57e59-19eb-4d53-99d6-a9f6fbcb01ef",
   "metadata": {},
   "outputs": [
    {
     "data": {
      "text/plain": [
       "22500.0"
      ]
     },
     "execution_count": 11,
     "metadata": {},
     "output_type": "execute_result"
    }
   ],
   "source": [
    "df[\"median_house_value\"].min()"
   ]
  },
  {
   "cell_type": "markdown",
   "id": "f66f0310-e373-4471-b6c3-c169ce4a12db",
   "metadata": {},
   "source": [
    "#### task_2"
   ]
  },
  {
   "cell_type": "code",
   "execution_count": 30,
   "id": "3921552e-5be5-48bd-8c28-b4723f05b4c5",
   "metadata": {},
   "outputs": [
    {
     "data": {
      "text/plain": [
       "median_house_value    233300.000\n",
       "median_income              3.125\n",
       "dtype: float64"
      ]
     },
     "execution_count": 30,
     "metadata": {},
     "output_type": "execute_result"
    }
   ],
   "source": [
    "df[df[\"median_income\"] == 3.1250][[\"median_house_value\", \"median_income\"]].max()"
   ]
  },
  {
   "cell_type": "markdown",
   "id": "4c02e524-3c60-4e5e-bf70-8e087a3fbf00",
   "metadata": {},
   "source": [
    "#### task_3"
   ]
  },
  {
   "cell_type": "code",
   "execution_count": 64,
   "id": "4def3c24-97a6-4af2-8fa7-d39264bbb207",
   "metadata": {},
   "outputs": [
    {
     "data": {
      "text/plain": [
       "22500.0"
      ]
     },
     "execution_count": 64,
     "metadata": {},
     "output_type": "execute_result"
    }
   ],
   "source": [
    "df[\"median_house_value\"].min()"
   ]
  },
  {
   "cell_type": "code",
   "execution_count": 54,
   "id": "cef9d3d8-9222-4703-b3b2-d52ece99c7db",
   "metadata": {},
   "outputs": [
    {
     "data": {
      "text/html": [
       "<div>\n",
       "<style scoped>\n",
       "    .dataframe tbody tr th:only-of-type {\n",
       "        vertical-align: middle;\n",
       "    }\n",
       "\n",
       "    .dataframe tbody tr th {\n",
       "        vertical-align: top;\n",
       "    }\n",
       "\n",
       "    .dataframe thead th {\n",
       "        text-align: right;\n",
       "    }\n",
       "</style>\n",
       "<table border=\"1\" class=\"dataframe\">\n",
       "  <thead>\n",
       "    <tr style=\"text-align: right;\">\n",
       "      <th></th>\n",
       "      <th>population</th>\n",
       "      <th>median_house_value</th>\n",
       "    </tr>\n",
       "  </thead>\n",
       "  <tbody>\n",
       "    <tr>\n",
       "      <th>2001</th>\n",
       "      <td>1230.0</td>\n",
       "      <td>22500.0</td>\n",
       "    </tr>\n",
       "  </tbody>\n",
       "</table>\n",
       "</div>"
      ],
      "text/plain": [
       "      population  median_house_value\n",
       "2001      1230.0             22500.0"
      ]
     },
     "execution_count": 54,
     "metadata": {},
     "output_type": "execute_result"
    }
   ],
   "source": [
    "df[df[\"median_house_value\"] == 22500][[\"population\", \"median_house_value\"]]"
   ]
  },
  {
   "cell_type": "markdown",
   "id": "fdd5626d-4b74-4c3d-b938-cc7251089ef8",
   "metadata": {},
   "source": [
    "#### task_3.2 -> Вариант-2"
   ]
  },
  {
   "cell_type": "code",
   "execution_count": 78,
   "id": "f657e86a-be80-4552-b86b-abbc79f3eeeb",
   "metadata": {},
   "outputs": [
    {
     "data": {
      "text/plain": [
       "1230.0"
      ]
     },
     "execution_count": 78,
     "metadata": {},
     "output_type": "execute_result"
    }
   ],
   "source": [
    "df[df[\"median_house_value\"] == df[\"median_house_value\"].min()][\"population\"].max()"
   ]
  },
  {
   "cell_type": "code",
   "execution_count": null,
   "id": "1dedce77-62be-40f3-821c-38e706aff63c",
   "metadata": {},
   "outputs": [],
   "source": [
    "ilog"
   ]
  }
 ],
 "metadata": {
  "kernelspec": {
   "display_name": "Python 3 (ipykernel)",
   "language": "python",
   "name": "python3"
  },
  "language_info": {
   "codemirror_mode": {
    "name": "ipython",
    "version": 3
   },
   "file_extension": ".py",
   "mimetype": "text/x-python",
   "name": "python",
   "nbconvert_exporter": "python",
   "pygments_lexer": "ipython3",
   "version": "3.12.4"
  }
 },
 "nbformat": 4,
 "nbformat_minor": 5
}
