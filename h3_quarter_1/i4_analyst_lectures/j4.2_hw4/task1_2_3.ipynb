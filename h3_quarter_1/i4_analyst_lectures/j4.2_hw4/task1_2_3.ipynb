{
 "cells": [
  {
   "cell_type": "markdown",
   "id": "a7e14ced",
   "metadata": {},
   "source": [
    "task1_GeekBrains"
   ]
  },
  {
   "cell_type": "markdown",
   "id": "d6a17bbb",
   "metadata": {},
   "source": [
    "Условие 1: Задача 1\n",
    "Постройте график\n",
    "Назовите график\n",
    "Сделайте именование оси x и оси y\n",
    "Сделайте выводы\n",
    "\n",
    "1.1. Скачать следующие данные: kc-house-data и laptop_price\n",
    "1.2. Изучите стоимости недвижимости\n",
    "1.3. Изучите распределение квадратуры жилой\n",
    "1.4. Изучите распределение года постройки"
   ]
  },
  {
   "cell_type": "code",
   "execution_count": 35,
   "id": "b92f872d",
   "metadata": {},
   "outputs": [],
   "source": [
    "import pandas as pd\n",
    "import numpy as np\n",
    "import matplotlib.pyplot as plt\n",
    "import seaborn as sns"
   ]
  },
  {
   "cell_type": "code",
   "execution_count": 36,
   "id": "a49aff02",
   "metadata": {},
   "outputs": [
    {
     "data": {
      "text/plain": [
       "Index(['id', 'date', 'price', 'bedrooms', 'bathrooms', 'sqft_living',\n",
       "       'sqft_lot', 'floors', 'waterfront', 'view', 'condition', 'grade',\n",
       "       'sqft_above', 'sqft_basement', 'yr_built', 'yr_renovated', 'zipcode',\n",
       "       'lat', 'long', 'sqft_living15', 'sqft_lot15'],\n",
       "      dtype='object')"
      ]
     },
     "execution_count": 36,
     "metadata": {},
     "output_type": "execute_result"
    }
   ],
   "source": [
    "pd.options.display.float_format = '{:20,.2f}'.format\n",
    "df = pd.read_csv('kc-house-data.csv')\n",
    "df.columns"
   ]
  },
  {
   "cell_type": "markdown",
   "id": "d59dd68a",
   "metadata": {},
   "source": [
    "## описание колонок"
   ]
  },
  {
   "cell_type": "markdown",
   "id": "1964bc9e",
   "metadata": {},
   "source": [
    "id = идентификатор\n",
    "date = дата\n",
    "price = цена\n",
    "bedrooms = спальни_количество\n",
    "bathrooms = ванны_количество\n",
    "sqft_living = кв.фут жилые\n",
    "sqft_lot = кв.фут общие\n",
    "floors = этажи_количество\n",
    "waterfront = набережная (есть /нет)\n",
    "view = 0-4 вид\n",
    "condition = 1-5 состояние\n",
    "grade = 1-13\n",
    "    1-3    плохая конструкция и дизайн.\n",
    "    7      средн\n",
    "    11-13  высокая\n",
    "sqft_above = кв.футы дома, которые находятся выше земли\n",
    "sqft_basement = кв.футы дома, которые находятся ниже земли\n",
    "yr_built = Год постройки дома\n",
    "yr_renovated = Год ремонта дома\n",
    "zipcode = Индекс\n",
    "lat = Широтма\n",
    "long = Долгота\n",
    "sqft_living15 = кв.футы жилой площади у 15 соседей\n",
    "sqft_lot15 = кв.футы общей площади у 15 соседей\n",
    "sqft_living15 = кв.футы жилой площади у 15 соседей\n",
    "sqft_lot15 = кв.футы общей площади у 15 соседей"
   ]
  },
  {
   "cell_type": "code",
   "execution_count": 39,
   "id": "faae8ea3",
   "metadata": {},
   "outputs": [
    {
     "data": {
      "text/html": [
       "<div>\n",
       "<style scoped>\n",
       "    .dataframe tbody tr th:only-of-type {\n",
       "        vertical-align: middle;\n",
       "    }\n",
       "\n",
       "    .dataframe tbody tr th {\n",
       "        vertical-align: top;\n",
       "    }\n",
       "\n",
       "    .dataframe thead th {\n",
       "        text-align: right;\n",
       "    }\n",
       "</style>\n",
       "<table border=\"1\" class=\"dataframe\">\n",
       "  <thead>\n",
       "    <tr style=\"text-align: right;\">\n",
       "      <th></th>\n",
       "      <th>id</th>\n",
       "      <th>price</th>\n",
       "      <th>bedrooms</th>\n",
       "      <th>bathrooms</th>\n",
       "      <th>sqft_living</th>\n",
       "      <th>sqft_lot</th>\n",
       "      <th>floors</th>\n",
       "      <th>waterfront</th>\n",
       "      <th>view</th>\n",
       "      <th>condition</th>\n",
       "      <th>grade</th>\n",
       "      <th>sqft_above</th>\n",
       "      <th>sqft_basement</th>\n",
       "      <th>yr_built</th>\n",
       "      <th>yr_renovated</th>\n",
       "      <th>zipcode</th>\n",
       "      <th>lat</th>\n",
       "      <th>long</th>\n",
       "      <th>sqft_living15</th>\n",
       "      <th>sqft_lot15</th>\n",
       "    </tr>\n",
       "  </thead>\n",
       "  <tbody>\n",
       "    <tr>\n",
       "      <th>count</th>\n",
       "      <td>21,613.00</td>\n",
       "      <td>21,613.00</td>\n",
       "      <td>21,613.00</td>\n",
       "      <td>21,613.00</td>\n",
       "      <td>21,613.00</td>\n",
       "      <td>21,613.00</td>\n",
       "      <td>21,613.00</td>\n",
       "      <td>21,613.00</td>\n",
       "      <td>21,613.00</td>\n",
       "      <td>21,613.00</td>\n",
       "      <td>21,613.00</td>\n",
       "      <td>21,613.00</td>\n",
       "      <td>21,613.00</td>\n",
       "      <td>21,613.00</td>\n",
       "      <td>21,613.00</td>\n",
       "      <td>21,613.00</td>\n",
       "      <td>21,613.00</td>\n",
       "      <td>21,613.00</td>\n",
       "      <td>21,613.00</td>\n",
       "      <td>21,613.00</td>\n",
       "    </tr>\n",
       "    <tr>\n",
       "      <th>mean</th>\n",
       "      <td>4,580,301,520.86</td>\n",
       "      <td>540,088.14</td>\n",
       "      <td>3.37</td>\n",
       "      <td>2.11</td>\n",
       "      <td>2,079.90</td>\n",
       "      <td>15,106.97</td>\n",
       "      <td>1.49</td>\n",
       "      <td>0.01</td>\n",
       "      <td>0.23</td>\n",
       "      <td>3.41</td>\n",
       "      <td>7.66</td>\n",
       "      <td>1,788.39</td>\n",
       "      <td>291.51</td>\n",
       "      <td>1,971.01</td>\n",
       "      <td>84.40</td>\n",
       "      <td>98,077.94</td>\n",
       "      <td>47.56</td>\n",
       "      <td>-122.21</td>\n",
       "      <td>1,986.55</td>\n",
       "      <td>12,768.46</td>\n",
       "    </tr>\n",
       "    <tr>\n",
       "      <th>std</th>\n",
       "      <td>2,876,565,571.31</td>\n",
       "      <td>367,127.20</td>\n",
       "      <td>0.93</td>\n",
       "      <td>0.77</td>\n",
       "      <td>918.44</td>\n",
       "      <td>41,420.51</td>\n",
       "      <td>0.54</td>\n",
       "      <td>0.09</td>\n",
       "      <td>0.77</td>\n",
       "      <td>0.65</td>\n",
       "      <td>1.18</td>\n",
       "      <td>828.09</td>\n",
       "      <td>442.58</td>\n",
       "      <td>29.37</td>\n",
       "      <td>401.68</td>\n",
       "      <td>53.51</td>\n",
       "      <td>0.14</td>\n",
       "      <td>0.14</td>\n",
       "      <td>685.39</td>\n",
       "      <td>27,304.18</td>\n",
       "    </tr>\n",
       "    <tr>\n",
       "      <th>min</th>\n",
       "      <td>1,000,102.00</td>\n",
       "      <td>75,000.00</td>\n",
       "      <td>0.00</td>\n",
       "      <td>0.00</td>\n",
       "      <td>290.00</td>\n",
       "      <td>520.00</td>\n",
       "      <td>1.00</td>\n",
       "      <td>0.00</td>\n",
       "      <td>0.00</td>\n",
       "      <td>1.00</td>\n",
       "      <td>1.00</td>\n",
       "      <td>290.00</td>\n",
       "      <td>0.00</td>\n",
       "      <td>1,900.00</td>\n",
       "      <td>0.00</td>\n",
       "      <td>98,001.00</td>\n",
       "      <td>47.16</td>\n",
       "      <td>-122.52</td>\n",
       "      <td>399.00</td>\n",
       "      <td>651.00</td>\n",
       "    </tr>\n",
       "    <tr>\n",
       "      <th>25%</th>\n",
       "      <td>2,123,049,194.00</td>\n",
       "      <td>321,950.00</td>\n",
       "      <td>3.00</td>\n",
       "      <td>1.75</td>\n",
       "      <td>1,427.00</td>\n",
       "      <td>5,040.00</td>\n",
       "      <td>1.00</td>\n",
       "      <td>0.00</td>\n",
       "      <td>0.00</td>\n",
       "      <td>3.00</td>\n",
       "      <td>7.00</td>\n",
       "      <td>1,190.00</td>\n",
       "      <td>0.00</td>\n",
       "      <td>1,951.00</td>\n",
       "      <td>0.00</td>\n",
       "      <td>98,033.00</td>\n",
       "      <td>47.47</td>\n",
       "      <td>-122.33</td>\n",
       "      <td>1,490.00</td>\n",
       "      <td>5,100.00</td>\n",
       "    </tr>\n",
       "    <tr>\n",
       "      <th>50%</th>\n",
       "      <td>3,904,930,410.00</td>\n",
       "      <td>450,000.00</td>\n",
       "      <td>3.00</td>\n",
       "      <td>2.25</td>\n",
       "      <td>1,910.00</td>\n",
       "      <td>7,618.00</td>\n",
       "      <td>1.50</td>\n",
       "      <td>0.00</td>\n",
       "      <td>0.00</td>\n",
       "      <td>3.00</td>\n",
       "      <td>7.00</td>\n",
       "      <td>1,560.00</td>\n",
       "      <td>0.00</td>\n",
       "      <td>1,975.00</td>\n",
       "      <td>0.00</td>\n",
       "      <td>98,065.00</td>\n",
       "      <td>47.57</td>\n",
       "      <td>-122.23</td>\n",
       "      <td>1,840.00</td>\n",
       "      <td>7,620.00</td>\n",
       "    </tr>\n",
       "    <tr>\n",
       "      <th>75%</th>\n",
       "      <td>7,308,900,445.00</td>\n",
       "      <td>645,000.00</td>\n",
       "      <td>4.00</td>\n",
       "      <td>2.50</td>\n",
       "      <td>2,550.00</td>\n",
       "      <td>10,688.00</td>\n",
       "      <td>2.00</td>\n",
       "      <td>0.00</td>\n",
       "      <td>0.00</td>\n",
       "      <td>4.00</td>\n",
       "      <td>8.00</td>\n",
       "      <td>2,210.00</td>\n",
       "      <td>560.00</td>\n",
       "      <td>1,997.00</td>\n",
       "      <td>0.00</td>\n",
       "      <td>98,118.00</td>\n",
       "      <td>47.68</td>\n",
       "      <td>-122.12</td>\n",
       "      <td>2,360.00</td>\n",
       "      <td>10,083.00</td>\n",
       "    </tr>\n",
       "    <tr>\n",
       "      <th>max</th>\n",
       "      <td>9,900,000,190.00</td>\n",
       "      <td>7,700,000.00</td>\n",
       "      <td>33.00</td>\n",
       "      <td>8.00</td>\n",
       "      <td>13,540.00</td>\n",
       "      <td>1,651,359.00</td>\n",
       "      <td>3.50</td>\n",
       "      <td>1.00</td>\n",
       "      <td>4.00</td>\n",
       "      <td>5.00</td>\n",
       "      <td>13.00</td>\n",
       "      <td>9,410.00</td>\n",
       "      <td>4,820.00</td>\n",
       "      <td>2,015.00</td>\n",
       "      <td>2,015.00</td>\n",
       "      <td>98,199.00</td>\n",
       "      <td>47.78</td>\n",
       "      <td>-121.31</td>\n",
       "      <td>6,210.00</td>\n",
       "      <td>871,200.00</td>\n",
       "    </tr>\n",
       "  </tbody>\n",
       "</table>\n",
       "</div>"
      ],
      "text/plain": [
       "                        id                price             bedrooms  \\\n",
       "count            21,613.00            21,613.00            21,613.00   \n",
       "mean      4,580,301,520.86           540,088.14                 3.37   \n",
       "std       2,876,565,571.31           367,127.20                 0.93   \n",
       "min           1,000,102.00            75,000.00                 0.00   \n",
       "25%       2,123,049,194.00           321,950.00                 3.00   \n",
       "50%       3,904,930,410.00           450,000.00                 3.00   \n",
       "75%       7,308,900,445.00           645,000.00                 4.00   \n",
       "max       9,900,000,190.00         7,700,000.00                33.00   \n",
       "\n",
       "                 bathrooms          sqft_living             sqft_lot  \\\n",
       "count            21,613.00            21,613.00            21,613.00   \n",
       "mean                  2.11             2,079.90            15,106.97   \n",
       "std                   0.77               918.44            41,420.51   \n",
       "min                   0.00               290.00               520.00   \n",
       "25%                   1.75             1,427.00             5,040.00   \n",
       "50%                   2.25             1,910.00             7,618.00   \n",
       "75%                   2.50             2,550.00            10,688.00   \n",
       "max                   8.00            13,540.00         1,651,359.00   \n",
       "\n",
       "                    floors           waterfront                 view  \\\n",
       "count            21,613.00            21,613.00            21,613.00   \n",
       "mean                  1.49                 0.01                 0.23   \n",
       "std                   0.54                 0.09                 0.77   \n",
       "min                   1.00                 0.00                 0.00   \n",
       "25%                   1.00                 0.00                 0.00   \n",
       "50%                   1.50                 0.00                 0.00   \n",
       "75%                   2.00                 0.00                 0.00   \n",
       "max                   3.50                 1.00                 4.00   \n",
       "\n",
       "                 condition                grade           sqft_above  \\\n",
       "count            21,613.00            21,613.00            21,613.00   \n",
       "mean                  3.41                 7.66             1,788.39   \n",
       "std                   0.65                 1.18               828.09   \n",
       "min                   1.00                 1.00               290.00   \n",
       "25%                   3.00                 7.00             1,190.00   \n",
       "50%                   3.00                 7.00             1,560.00   \n",
       "75%                   4.00                 8.00             2,210.00   \n",
       "max                   5.00                13.00             9,410.00   \n",
       "\n",
       "             sqft_basement             yr_built         yr_renovated  \\\n",
       "count            21,613.00            21,613.00            21,613.00   \n",
       "mean                291.51             1,971.01                84.40   \n",
       "std                 442.58                29.37               401.68   \n",
       "min                   0.00             1,900.00                 0.00   \n",
       "25%                   0.00             1,951.00                 0.00   \n",
       "50%                   0.00             1,975.00                 0.00   \n",
       "75%                 560.00             1,997.00                 0.00   \n",
       "max               4,820.00             2,015.00             2,015.00   \n",
       "\n",
       "                   zipcode                  lat                 long  \\\n",
       "count            21,613.00            21,613.00            21,613.00   \n",
       "mean             98,077.94                47.56              -122.21   \n",
       "std                  53.51                 0.14                 0.14   \n",
       "min              98,001.00                47.16              -122.52   \n",
       "25%              98,033.00                47.47              -122.33   \n",
       "50%              98,065.00                47.57              -122.23   \n",
       "75%              98,118.00                47.68              -122.12   \n",
       "max              98,199.00                47.78              -121.31   \n",
       "\n",
       "             sqft_living15           sqft_lot15  \n",
       "count            21,613.00            21,613.00  \n",
       "mean              1,986.55            12,768.46  \n",
       "std                 685.39            27,304.18  \n",
       "min                 399.00               651.00  \n",
       "25%               1,490.00             5,100.00  \n",
       "50%               1,840.00             7,620.00  \n",
       "75%               2,360.00            10,083.00  \n",
       "max               6,210.00           871,200.00  "
      ]
     },
     "execution_count": 39,
     "metadata": {},
     "output_type": "execute_result"
    }
   ],
   "source": [
    "df.describe()"
   ]
  },
  {
   "cell_type": "markdown",
   "id": "9461da3d",
   "metadata": {},
   "source": [
    "21613 rows\n",
    "21 columns"
   ]
  },
  {
   "cell_type": "markdown",
   "id": "4c08c8b1",
   "metadata": {},
   "source": [
    "### 1.2. Изучите стоимости недвижимости"
   ]
  },
  {
   "cell_type": "code",
   "execution_count": 42,
   "id": "b03d6e84",
   "metadata": {
    "scrolled": true
   },
   "outputs": [
    {
     "data": {
      "image/png": "[encoded data removed]",
      "text/plain": [
       "<Figure size 600x400 with 1 Axes>"
      ]
     },
     "metadata": {},
     "output_type": "display_data"
    }
   ],
   "source": [
    "plt.figure(figsize = (6,4))\n",
    "plt.hist(df['price'], bins = 10)\n",
    "plt.xlabel('Стоимость')\n",
    "plt.ylabel('Количество')\n",
    "plt.title('Стоимость недвижимости');"
   ]
  },
  {
   "cell_type": "code",
   "execution_count": 43,
   "id": "365f6a46",
   "metadata": {},
   "outputs": [
    {
     "data": {
      "image/png": "[encoded data removed]",
      "text/plain": [
       "<Figure size 600x800 with 1 Axes>"
      ]
     },
     "metadata": {},
     "output_type": "display_data"
    }
   ],
   "source": [
    "plt.figure(figsize=(6,8))\n",
    "plt.hist(df['price'], bins=100)\n",
    "plt.title('Стоимость недвижимости')\n",
    "plt.xlabel('Цена')\n",
    "plt.ylabel('Количество');"
   ]
  },
  {
   "cell_type": "markdown",
   "id": "f681b44a",
   "metadata": {},
   "source": [
    "Вывод:\n",
    "1. Колличество домов прямопропорционально их цене\n",
    "2. Максимальное количество недвижимости продается по цене до ~700 000-1 000 000 д.е., основная часть недвижимости продается по цене до 2 000 000 д.е."
   ]
  },
  {
   "cell_type": "markdown",
   "id": "5efdd7de",
   "metadata": {},
   "source": [
    "### 1.3. Изучите распределение квадратуры жилой"
   ]
  },
  {
   "cell_type": "code",
   "execution_count": 46,
   "id": "5357b794",
   "metadata": {},
   "outputs": [
    {
     "data": {
      "image/png": "[encoded data removed]",
      "text/plain": [
       "<Figure size 600x400 with 1 Axes>"
      ]
     },
     "metadata": {},
     "output_type": "display_data"
    }
   ],
   "source": [
    "plt.figure(figsize = (6,4))\n",
    "sns.histplot(df['sqft_living'], bins = 10)\n",
    "plt.xlabel('Жилые квадратные метры')\n",
    "plt.ylabel('Количество')\n",
    "plt.title('Распределение жилой квадратуры');"
   ]
  },
  {
   "cell_type": "code",
   "execution_count": 47,
   "id": "d06e44b1",
   "metadata": {},
   "outputs": [
    {
     "data": {
      "image/png": "[encoded data removed]",
      "text/plain": [
       "<Figure size 600x400 with 1 Axes>"
      ]
     },
     "metadata": {},
     "output_type": "display_data"
    }
   ],
   "source": [
    "plt.figure(figsize = (6,4))\n",
    "sns.histplot(df['sqft_living'], bins = 100)\n",
    "plt.xlabel('Жилые квадратные метры')\n",
    "plt.ylabel('Количество')\n",
    "plt.title('Распределение жилой квадратуры');"
   ]
  },
  {
   "cell_type": "markdown",
   "id": "8fe32121",
   "metadata": {},
   "source": [
    "Вывод:\n",
    "\n",
    "    Максимальное количество недвижимости продается с жилой площадью от ~1700 до 2300 кв.м., основная часть недвижимости продается с жилой площадью от ~500 до 6000 кв.м.\n",
    "\n"
   ]
  },
  {
   "cell_type": "code",
   "execution_count": 49,
   "id": "11df2f29",
   "metadata": {},
   "outputs": [
    {
     "data": {
      "text/plain": [
       "yr_built\n",
       "1934    21\n",
       "1935    24\n",
       "1902    27\n",
       "1901    29\n",
       "1933    30\n",
       "Name: count, dtype: int64"
      ]
     },
     "execution_count": 49,
     "metadata": {},
     "output_type": "execute_result"
    }
   ],
   "source": [
    "data_yr = df['yr_built'].value_counts(ascending=True)\n",
    "data_yr.head()"
   ]
  },
  {
   "cell_type": "markdown",
   "id": "f9b7e4b0",
   "metadata": {},
   "source": [
    "### 1.4. Изучите распределение года постройки"
   ]
  },
  {
   "cell_type": "markdown",
   "id": "966117f3",
   "metadata": {},
   "source": [
    "### **1.4 Изучите распределение года постройки**"
   ]
  },
  {
   "cell_type": "code",
   "execution_count": 52,
   "id": "f8ef2734",
   "metadata": {},
   "outputs": [],
   "source": [
    "years_list = [1900+i*10 for i in range (0,13)]"
   ]
  },
  {
   "cell_type": "code",
   "execution_count": 53,
   "id": "eafbb7d8",
   "metadata": {},
   "outputs": [
    {
     "data": {
      "image/png": "[encoded data removed]",
      "text/plain": [
       "<Figure size 1600x600 with 1 Axes>"
      ]
     },
     "metadata": {},
     "output_type": "display_data"
    },
    {
     "ename": "TypeError",
     "evalue": "Data source must be a DataFrame or Mapping, not <class 'pandas.core.series.Series'>.",
     "output_type": "error",
     "traceback": [
      "\u001b[0;31m---------------------------------------------------------------------------\u001b[0m",
      "\u001b[0;31mTypeError\u001b[0m                                 Traceback (most recent call last)",
      "Cell \u001b[0;32mIn[53], line 15\u001b[0m\n\u001b[1;32m     13\u001b[0m plt\u001b[38;5;241m.\u001b[39mfigure(figsize\u001b[38;5;241m=\u001b[39m(\u001b[38;5;241m16\u001b[39m,\u001b[38;5;241m6\u001b[39m))\n\u001b[1;32m     14\u001b[0m sns\u001b[38;5;241m.\u001b[39mset_style(\u001b[38;5;124m\"\u001b[39m\u001b[38;5;124mdarkgrid\u001b[39m\u001b[38;5;124m\"\u001b[39m)\n\u001b[0;32m---> 15\u001b[0m sns\u001b[38;5;241m.\u001b[39mlineplot(data\u001b[38;5;241m=\u001b[39mdata_yr, x\u001b[38;5;241m=\u001b[39mnames,y\u001b[38;5;241m=\u001b[39mvalues)\n\u001b[1;32m     16\u001b[0m plt\u001b[38;5;241m.\u001b[39mxlabel(\u001b[38;5;124m'\u001b[39m\u001b[38;5;124mГоды\u001b[39m\u001b[38;5;124m'\u001b[39m)\n\u001b[1;32m     17\u001b[0m plt\u001b[38;5;241m.\u001b[39mylabel(\u001b[38;5;124m'\u001b[39m\u001b[38;5;124mКоличество домов\u001b[39m\u001b[38;5;124m'\u001b[39m)\n",
      "File \u001b[0;32m/opt/anaconda3/lib/python3.12/site-packages/seaborn/relational.py:485\u001b[0m, in \u001b[0;36mlineplot\u001b[0;34m(data, x, y, hue, size, style, units, weights, palette, hue_order, hue_norm, sizes, size_order, size_norm, dashes, markers, style_order, estimator, errorbar, n_boot, seed, orient, sort, err_style, err_kws, legend, ci, ax, **kwargs)\u001b[0m\n\u001b[1;32m    471\u001b[0m \u001b[38;5;28;01mdef\u001b[39;00m \u001b[38;5;21mlineplot\u001b[39m(\n\u001b[1;32m    472\u001b[0m     data\u001b[38;5;241m=\u001b[39m\u001b[38;5;28;01mNone\u001b[39;00m, \u001b[38;5;241m*\u001b[39m,\n\u001b[1;32m    473\u001b[0m     x\u001b[38;5;241m=\u001b[39m\u001b[38;5;28;01mNone\u001b[39;00m, y\u001b[38;5;241m=\u001b[39m\u001b[38;5;28;01mNone\u001b[39;00m, hue\u001b[38;5;241m=\u001b[39m\u001b[38;5;28;01mNone\u001b[39;00m, size\u001b[38;5;241m=\u001b[39m\u001b[38;5;28;01mNone\u001b[39;00m, style\u001b[38;5;241m=\u001b[39m\u001b[38;5;28;01mNone\u001b[39;00m, units\u001b[38;5;241m=\u001b[39m\u001b[38;5;28;01mNone\u001b[39;00m, weights\u001b[38;5;241m=\u001b[39m\u001b[38;5;28;01mNone\u001b[39;00m,\n\u001b[0;32m   (...)\u001b[0m\n\u001b[1;32m    481\u001b[0m \n\u001b[1;32m    482\u001b[0m     \u001b[38;5;66;03m# Handle deprecation of ci parameter\u001b[39;00m\n\u001b[1;32m    483\u001b[0m     errorbar \u001b[38;5;241m=\u001b[39m _deprecate_ci(errorbar, ci)\n\u001b[0;32m--> 485\u001b[0m     p \u001b[38;5;241m=\u001b[39m _LinePlotter(\n\u001b[1;32m    486\u001b[0m         data\u001b[38;5;241m=\u001b[39mdata,\n\u001b[1;32m    487\u001b[0m         variables\u001b[38;5;241m=\u001b[39m\u001b[38;5;28mdict\u001b[39m(\n\u001b[1;32m    488\u001b[0m             x\u001b[38;5;241m=\u001b[39mx, y\u001b[38;5;241m=\u001b[39my, hue\u001b[38;5;241m=\u001b[39mhue, size\u001b[38;5;241m=\u001b[39msize, style\u001b[38;5;241m=\u001b[39mstyle, units\u001b[38;5;241m=\u001b[39munits, weight\u001b[38;5;241m=\u001b[39mweights\n\u001b[1;32m    489\u001b[0m         ),\n\u001b[1;32m    490\u001b[0m         estimator\u001b[38;5;241m=\u001b[39mestimator, n_boot\u001b[38;5;241m=\u001b[39mn_boot, seed\u001b[38;5;241m=\u001b[39mseed, errorbar\u001b[38;5;241m=\u001b[39merrorbar,\n\u001b[1;32m    491\u001b[0m         sort\u001b[38;5;241m=\u001b[39msort, orient\u001b[38;5;241m=\u001b[39morient, err_style\u001b[38;5;241m=\u001b[39merr_style, err_kws\u001b[38;5;241m=\u001b[39merr_kws,\n\u001b[1;32m    492\u001b[0m         legend\u001b[38;5;241m=\u001b[39mlegend,\n\u001b[1;32m    493\u001b[0m     )\n\u001b[1;32m    495\u001b[0m     p\u001b[38;5;241m.\u001b[39mmap_hue(palette\u001b[38;5;241m=\u001b[39mpalette, order\u001b[38;5;241m=\u001b[39mhue_order, norm\u001b[38;5;241m=\u001b[39mhue_norm)\n\u001b[1;32m    496\u001b[0m     p\u001b[38;5;241m.\u001b[39mmap_size(sizes\u001b[38;5;241m=\u001b[39msizes, order\u001b[38;5;241m=\u001b[39msize_order, norm\u001b[38;5;241m=\u001b[39msize_norm)\n",
      "File \u001b[0;32m/opt/anaconda3/lib/python3.12/site-packages/seaborn/relational.py:216\u001b[0m, in \u001b[0;36m_LinePlotter.__init__\u001b[0;34m(self, data, variables, estimator, n_boot, seed, errorbar, sort, orient, err_style, err_kws, legend)\u001b[0m\n\u001b[1;32m    202\u001b[0m \u001b[38;5;28;01mdef\u001b[39;00m \u001b[38;5;21m__init__\u001b[39m(\n\u001b[1;32m    203\u001b[0m     \u001b[38;5;28mself\u001b[39m, \u001b[38;5;241m*\u001b[39m,\n\u001b[1;32m    204\u001b[0m     data\u001b[38;5;241m=\u001b[39m\u001b[38;5;28;01mNone\u001b[39;00m, variables\u001b[38;5;241m=\u001b[39m{},\n\u001b[0;32m   (...)\u001b[0m\n\u001b[1;32m    210\u001b[0m     \u001b[38;5;66;03m# the kind of plot to draw, but for the time being we need to set\u001b[39;00m\n\u001b[1;32m    211\u001b[0m     \u001b[38;5;66;03m# this information so the SizeMapping can use it\u001b[39;00m\n\u001b[1;32m    212\u001b[0m     \u001b[38;5;28mself\u001b[39m\u001b[38;5;241m.\u001b[39m_default_size_range \u001b[38;5;241m=\u001b[39m (\n\u001b[1;32m    213\u001b[0m         np\u001b[38;5;241m.\u001b[39mr_[\u001b[38;5;241m.5\u001b[39m, \u001b[38;5;241m2\u001b[39m] \u001b[38;5;241m*\u001b[39m mpl\u001b[38;5;241m.\u001b[39mrcParams[\u001b[38;5;124m\"\u001b[39m\u001b[38;5;124mlines.linewidth\u001b[39m\u001b[38;5;124m\"\u001b[39m]\n\u001b[1;32m    214\u001b[0m     )\n\u001b[0;32m--> 216\u001b[0m     \u001b[38;5;28msuper\u001b[39m()\u001b[38;5;241m.\u001b[39m\u001b[38;5;21m__init__\u001b[39m(data\u001b[38;5;241m=\u001b[39mdata, variables\u001b[38;5;241m=\u001b[39mvariables)\n\u001b[1;32m    218\u001b[0m     \u001b[38;5;28mself\u001b[39m\u001b[38;5;241m.\u001b[39mestimator \u001b[38;5;241m=\u001b[39m estimator\n\u001b[1;32m    219\u001b[0m     \u001b[38;5;28mself\u001b[39m\u001b[38;5;241m.\u001b[39merrorbar \u001b[38;5;241m=\u001b[39m errorbar\n",
      "File \u001b[0;32m/opt/anaconda3/lib/python3.12/site-packages/seaborn/_base.py:634\u001b[0m, in \u001b[0;36mVectorPlotter.__init__\u001b[0;34m(self, data, variables)\u001b[0m\n\u001b[1;32m    629\u001b[0m \u001b[38;5;66;03m# var_ordered is relevant only for categorical axis variables, and may\u001b[39;00m\n\u001b[1;32m    630\u001b[0m \u001b[38;5;66;03m# be better handled by an internal axis information object that tracks\u001b[39;00m\n\u001b[1;32m    631\u001b[0m \u001b[38;5;66;03m# such information and is set up by the scale_* methods. The analogous\u001b[39;00m\n\u001b[1;32m    632\u001b[0m \u001b[38;5;66;03m# information for numeric axes would be information about log scales.\u001b[39;00m\n\u001b[1;32m    633\u001b[0m \u001b[38;5;28mself\u001b[39m\u001b[38;5;241m.\u001b[39m_var_ordered \u001b[38;5;241m=\u001b[39m {\u001b[38;5;124m\"\u001b[39m\u001b[38;5;124mx\u001b[39m\u001b[38;5;124m\"\u001b[39m: \u001b[38;5;28;01mFalse\u001b[39;00m, \u001b[38;5;124m\"\u001b[39m\u001b[38;5;124my\u001b[39m\u001b[38;5;124m\"\u001b[39m: \u001b[38;5;28;01mFalse\u001b[39;00m}  \u001b[38;5;66;03m# alt., used DefaultDict\u001b[39;00m\n\u001b[0;32m--> 634\u001b[0m \u001b[38;5;28mself\u001b[39m\u001b[38;5;241m.\u001b[39massign_variables(data, variables)\n\u001b[1;32m    636\u001b[0m \u001b[38;5;66;03m# TODO Lots of tests assume that these are called to initialize the\u001b[39;00m\n\u001b[1;32m    637\u001b[0m \u001b[38;5;66;03m# mappings to default values on class initialization. I'd prefer to\u001b[39;00m\n\u001b[1;32m    638\u001b[0m \u001b[38;5;66;03m# move away from that and only have a mapping when explicitly called.\u001b[39;00m\n\u001b[1;32m    639\u001b[0m \u001b[38;5;28;01mfor\u001b[39;00m var \u001b[38;5;129;01min\u001b[39;00m [\u001b[38;5;124m\"\u001b[39m\u001b[38;5;124mhue\u001b[39m\u001b[38;5;124m\"\u001b[39m, \u001b[38;5;124m\"\u001b[39m\u001b[38;5;124msize\u001b[39m\u001b[38;5;124m\"\u001b[39m, \u001b[38;5;124m\"\u001b[39m\u001b[38;5;124mstyle\u001b[39m\u001b[38;5;124m\"\u001b[39m]:\n",
      "File \u001b[0;32m/opt/anaconda3/lib/python3.12/site-packages/seaborn/_base.py:679\u001b[0m, in \u001b[0;36mVectorPlotter.assign_variables\u001b[0;34m(self, data, variables)\u001b[0m\n\u001b[1;32m    674\u001b[0m \u001b[38;5;28;01melse\u001b[39;00m:\n\u001b[1;32m    675\u001b[0m     \u001b[38;5;66;03m# When dealing with long-form input, use the newer PlotData\u001b[39;00m\n\u001b[1;32m    676\u001b[0m     \u001b[38;5;66;03m# object (internal but introduced for the objects interface)\u001b[39;00m\n\u001b[1;32m    677\u001b[0m     \u001b[38;5;66;03m# to centralize / standardize data consumption logic.\u001b[39;00m\n\u001b[1;32m    678\u001b[0m     \u001b[38;5;28mself\u001b[39m\u001b[38;5;241m.\u001b[39minput_format \u001b[38;5;241m=\u001b[39m \u001b[38;5;124m\"\u001b[39m\u001b[38;5;124mlong\u001b[39m\u001b[38;5;124m\"\u001b[39m\n\u001b[0;32m--> 679\u001b[0m     plot_data \u001b[38;5;241m=\u001b[39m PlotData(data, variables)\n\u001b[1;32m    680\u001b[0m     frame \u001b[38;5;241m=\u001b[39m plot_data\u001b[38;5;241m.\u001b[39mframe\n\u001b[1;32m    681\u001b[0m     names \u001b[38;5;241m=\u001b[39m plot_data\u001b[38;5;241m.\u001b[39mnames\n",
      "File \u001b[0;32m/opt/anaconda3/lib/python3.12/site-packages/seaborn/_core/data.py:57\u001b[0m, in \u001b[0;36mPlotData.__init__\u001b[0;34m(self, data, variables)\u001b[0m\n\u001b[1;32m     51\u001b[0m \u001b[38;5;28;01mdef\u001b[39;00m \u001b[38;5;21m__init__\u001b[39m(\n\u001b[1;32m     52\u001b[0m     \u001b[38;5;28mself\u001b[39m,\n\u001b[1;32m     53\u001b[0m     data: DataSource,\n\u001b[1;32m     54\u001b[0m     variables: \u001b[38;5;28mdict\u001b[39m[\u001b[38;5;28mstr\u001b[39m, VariableSpec],\n\u001b[1;32m     55\u001b[0m ):\n\u001b[0;32m---> 57\u001b[0m     data \u001b[38;5;241m=\u001b[39m handle_data_source(data)\n\u001b[1;32m     58\u001b[0m     frame, names, ids \u001b[38;5;241m=\u001b[39m \u001b[38;5;28mself\u001b[39m\u001b[38;5;241m.\u001b[39m_assign_variables(data, variables)\n\u001b[1;32m     60\u001b[0m     \u001b[38;5;28mself\u001b[39m\u001b[38;5;241m.\u001b[39mframe \u001b[38;5;241m=\u001b[39m frame\n",
      "File \u001b[0;32m/opt/anaconda3/lib/python3.12/site-packages/seaborn/_core/data.py:278\u001b[0m, in \u001b[0;36mhandle_data_source\u001b[0;34m(data)\u001b[0m\n\u001b[1;32m    276\u001b[0m \u001b[38;5;28;01melif\u001b[39;00m data \u001b[38;5;129;01mis\u001b[39;00m \u001b[38;5;129;01mnot\u001b[39;00m \u001b[38;5;28;01mNone\u001b[39;00m \u001b[38;5;129;01mand\u001b[39;00m \u001b[38;5;129;01mnot\u001b[39;00m \u001b[38;5;28misinstance\u001b[39m(data, Mapping):\n\u001b[1;32m    277\u001b[0m     err \u001b[38;5;241m=\u001b[39m \u001b[38;5;124mf\u001b[39m\u001b[38;5;124m\"\u001b[39m\u001b[38;5;124mData source must be a DataFrame or Mapping, not \u001b[39m\u001b[38;5;132;01m{\u001b[39;00m\u001b[38;5;28mtype\u001b[39m(data)\u001b[38;5;132;01m!r}\u001b[39;00m\u001b[38;5;124m.\u001b[39m\u001b[38;5;124m\"\u001b[39m\n\u001b[0;32m--> 278\u001b[0m     \u001b[38;5;28;01mraise\u001b[39;00m \u001b[38;5;167;01mTypeError\u001b[39;00m(err)\n\u001b[1;32m    280\u001b[0m \u001b[38;5;28;01mreturn\u001b[39;00m data\n",
      "\u001b[0;31mTypeError\u001b[0m: Data source must be a DataFrame or Mapping, not <class 'pandas.core.series.Series'>."
     ]
    },
    {
     "data": {
      "text/plain": [
       "<Figure size 1600x600 with 0 Axes>"
      ]
     },
     "metadata": {},
     "output_type": "display_data"
    }
   ],
   "source": [
    "names = data_yr.index\n",
    "values = data_yr.values\n",
    "yr_list = list(range(1900,2025,5))\n",
    "plt.figure(figsize=(16, 6))\n",
    "plt.bar(names,values, width=0.7, facecolor='c', alpha=0.75)\n",
    "plt.title('Годы постройки домов')\n",
    "plt.xlabel('Годы')\n",
    "plt.ylabel('Количество домов')\n",
    "plt.grid(True)\n",
    "plt.xticks(yr_list,rotation=40);\n",
    "plt.show()\n",
    "   \n",
    "plt.figure(figsize=(16,6))\n",
    "sns.set_style(\"darkgrid\")\n",
    "sns.lineplot(data=data_yr, x=names,y=values)\n",
    "plt.xlabel('Годы')\n",
    "plt.ylabel('Количество домов')\n",
    "plt.xticks(ticks=years_list);"
   ]
  },
  {
   "cell_type": "markdown",
   "id": "30167f37",
   "metadata": {},
   "source": [
    "Вывод:\n",
    "Кризисы строительтва были в середине 30-хб начале 70-х, пики в конце 60-хб 70-х и середине нулевых"
   ]
  },
  {
   "cell_type": "markdown",
   "id": "5c79048f",
   "metadata": {},
   "source": [
    "## Задача 2\n",
    "\n",
    "### **2.1 Изучите распределение домов от наличия вида на набережную**\n",
    "- Постройте график\n",
    "- Сделайте выводы\n",
    "### **2.2 Изучите распределение этажей домов**\n",
    "### **2.3 Изучите распределение состояния домов**\n",
    "\n"
   ]
  },
  {
   "cell_type": "markdown",
   "id": "b4eac365",
   "metadata": {},
   "source": [
    "    **2.1 Изучите распределение домов от наличия вида на набережную**"
   ]
  },
  {
   "cell_type": "code",
   "execution_count": null,
   "id": "a9654d56",
   "metadata": {},
   "outputs": [],
   "source": [
    "data_view = df['waterfront'].value_counts()\n",
    "val = data_view.values\n",
    "plt.pie(val,labels=['seaview', 'w/o seaviews'],explode=[0,0.3],\n",
    "        radius = 1.5, startangle=60,\n",
    "        labeldistance=1.2, autopct='%.1f%%');"
   ]
  },
  {
   "cell_type": "markdown",
   "id": "de713ff1",
   "metadata": {},
   "source": [
    "Вывод:\n",
    "\n",
    "    Всего лишь 0,8% всей недвижимости продается с видом на набережную"
   ]
  },
  {
   "cell_type": "markdown",
   "id": "f255b90c",
   "metadata": {},
   "source": [
    "### **2.2 Изучите распределение этажей домов**"
   ]
  },
  {
   "cell_type": "code",
   "execution_count": null,
   "id": "4fc1443a",
   "metadata": {},
   "outputs": [],
   "source": [
    "df.floors.max(), df.floors.min()"
   ]
  },
  {
   "cell_type": "code",
   "execution_count": null,
   "id": "7e2b6b4e",
   "metadata": {},
   "outputs": [],
   "source": [
    "data2 = df['floors'].value_counts(normalize=True)*100\n",
    "data2"
   ]
  },
  {
   "cell_type": "code",
   "execution_count": null,
   "id": "2ffd1e29",
   "metadata": {},
   "outputs": [],
   "source": [
    "data_floor = df['floors'].value_counts()\n",
    "f_val = data_floor.values\n",
    "f_ind = data_floor.index\n",
    "plt.figure(figsize=(12, 6))\n",
    "plt.bar(f_ind,f_val, width=0.4, facecolor='c', alpha=0.75)\n",
    "plt.title('Этажность')\n",
    "plt.xlabel('Этажи')\n",
    "plt.ylabel('Количество домов')\n",
    "plt.grid(True)\n",
    "plt.show()"
   ]
  },
  {
   "cell_type": "code",
   "execution_count": null,
   "id": "09fb9441",
   "metadata": {},
   "outputs": [],
   "source": [
    "plt.figure(figsize=(10,8))\n",
    "explode = [0.0, 0.1, 0.3, 0.5, 0.5, 0.5]\n",
    "plt.pie(data2.values, autopct='%1.2f%%', labels=data2.index, explode=explode)\n",
    "plt.legend(data2.index)\n",
    "plt.title('Распределение этажей домов');"
   ]
  },
  {
   "cell_type": "markdown",
   "id": "75c7635c",
   "metadata": {},
   "source": [
    "Вывод:\n",
    "\n",
    "    1. Большая часть домов состоит из 1 и 2 этажей.\n",
    "    2. Одноэтажные дома лидируют по продаже недвижимости в 49,4%.\n",
    "    3. Минимальная доля продажи приходится на 2,5-этажные и 3,5-этажные дома (0,74%, 0,04%)"
   ]
  },
  {
   "cell_type": "markdown",
   "id": "006f99b7",
   "metadata": {},
   "source": [
    "### **2.3 Изучите распределение состояния домов**"
   ]
  },
  {
   "cell_type": "code",
   "execution_count": null,
   "id": "88de96ad",
   "metadata": {},
   "outputs": [],
   "source": [
    "data_cond = df['condition'].value_counts(sort=False)\n",
    "data_cond\n",
    "cond_val= data_cond.values\n",
    "cond_ind = data_cond.index\n",
    "cond_explode = [0,0,0,0.6,0.3]\n",
    "colors = [\"#ff7f0e\", \"#9467bd\", \"#d62728\",\"#1f77b4\", \"#8c564b\"]\n",
    "plt.title(\"House condition\")\n",
    "plt.pie(cond_val, labels=cond_ind, radius = 1.5,\n",
    "        startangle=-20, colors=colors,\n",
    "        rotatelabels=True, explode = cond_explode,\n",
    "        labeldistance=1.1, autopct='%.1f%%')\n",
    "plt.title(\"House condition\", bbox={'facecolor':'0.8', 'pad':5})\n",
    "plt.show;"
   ]
  },
  {
   "cell_type": "markdown",
   "id": "fc110a6f",
   "metadata": {},
   "source": [
    "Вывод:\n",
    "\n",
    "    Менее 1% домов в плохом состоянии, около 2/3 домов в среднем (3) состоянии"
   ]
  },
  {
   "cell_type": "markdown",
   "id": "c2d20970",
   "metadata": {},
   "source": [
    "### **Условие 3: 3 задача**\n",
    "Исследуйте, какие характеристики недвижимости влияют на стоимость недвижимости, с применением не менее 5 диаграмм из урока.\n",
    "Анализ сделайте в формате storytelling: дополнить каждый график письменными выводами и наблюдениями.\n",
    "\n",
    "Данная промежуточная аттестация оценивается по системе \"зачет\" / \"не зачет\".\n",
    "\"Зачет\" ставится, если слушатель успешно выполнил 3 или 2 критерия.\n",
    "\"Незачет\" ставится, если слушатель успешно выполнил 1 или меньше критериев.\n",
    "\n",
    "Критерии оценивания:\n",
    "- слушатель верно подгрузил данные в библиотеку\n",
    "- слушатель сформировал корректный график по данным\n",
    "- слушатель проанализировал данные и сделал корректный вывод"
   ]
  },
  {
   "cell_type": "code",
   "execution_count": null,
   "id": "27d4afb7",
   "metadata": {},
   "outputs": [],
   "source": [
    "corr_matrix = df.corr()\n",
    "corr_matrix = np.round(corr_matrix, 1)\n",
    "corr_matrix[np.abs(corr_matrix) < 0.3] = 0\n",
    "corr_matrix"
   ]
  },
  {
   "cell_type": "markdown",
   "id": "11df7fa5",
   "metadata": {},
   "source": [
    "    Определяем по какой из наибольшей карреляции (свыше 0,6) строить зависимость"
   ]
  },
  {
   "cell_type": "code",
   "execution_count": null,
   "id": "6aa514a7",
   "metadata": {},
   "outputs": [],
   "source": [
    "plt.figure(figsize=(11, 10))\n",
    "upp_mat = np.triu(df.corr())\n",
    "sns.heatmap(corr_matrix, annot=True, linewidths=.5,\n",
    "            cmap='coolwarm', mask= upp_mat);"
   ]
  },
  {
   "cell_type": "code",
   "execution_count": null,
   "id": "83536ed6",
   "metadata": {},
   "outputs": [],
   "source": [
    "# kind` must be one of ['scatter', 'hist', 'hex', 'kde', 'reg', 'resid']\n",
    "sns.pairplot(df, height=2, kind='scatter', diag_kind='kde')\n",
    "plt.show()"
   ]
  },
  {
   "cell_type": "markdown",
   "id": "0f2bc30d",
   "metadata": {},
   "source": [
    "Вывод:\n",
    "В одном в формате storytelling провести анализ затруднительно, поэтому необходимо анализировать по частям"
   ]
  },
  {
   "cell_type": "code",
   "execution_count": null,
   "id": "2d415c24",
   "metadata": {},
   "outputs": [],
   "source": [
    "sns.jointplot(data=df, x=\"sqft_living15\", y=\"price\", kind=\"reg\", height=12, ratio=4); "
   ]
  },
  {
   "cell_type": "code",
   "execution_count": null,
   "id": "30a2968d",
   "metadata": {},
   "outputs": [],
   "source": [
    "sns.jointplot(x = df['price'], y = df['grade'], kind = 'reg', height=12, ratio=4);"
   ]
  },
  {
   "cell_type": "code",
   "execution_count": null,
   "id": "44849a61",
   "metadata": {},
   "outputs": [],
   "source": [
    "g = sns.JointGrid(data=df, x=\"sqft_living\", y=\"price\",height=10)\n",
    "g.plot_joint(sns.scatterplot, s=100, alpha=.5)\n",
    "g.plot_marginals(sns.histplot, kde=True);"
   ]
  },
  {
   "cell_type": "code",
   "execution_count": null,
   "id": "31c44c65",
   "metadata": {},
   "outputs": [],
   "source": [
    "data = df.groupby('yr_built')['price'].mean().reset_index()\n",
    "data"
   ]
  },
  {
   "cell_type": "code",
   "execution_count": null,
   "id": "375c7ea7",
   "metadata": {},
   "outputs": [],
   "source": [
    "plt.figure(figsize=(15, 6))\n",
    "plt.scatter(data['yr_built'], data['price'])\n",
    "plt.title('Распределение средних цен в зависимости от года постройки');"
   ]
  },
  {
   "cell_type": "markdown",
   "id": "3dbfcab6",
   "metadata": {},
   "source": [
    "Вывод:\n",
    "\n",
    "- распределение цены в зависимости от года постройки имеет U-образную форму;\n",
    "- цена на дома, построенные с 1900-х до 1960-х, постепенно опускалась;\n",
    "- при этом цена на дома, построенные в1940-х годах, принимает неожиданно низкие значения;\n",
    "- цена на дома, построенные с 1960-х годов, вновь начала расти;\n",
    "- для домов, построенных в2020-х годах, цена почти такая же, как и для домов, построенных в 1900-х годах;\n",
    "- могу предположить, что старые дома, которые стоят больше 1 века, имеют особую историческую значимость и поэтому их цена находится на одном уровне с ценами домов, построенных в 2000-х годах."
   ]
  },
  {
   "cell_type": "code",
   "execution_count": null,
   "id": "9ecca132",
   "metadata": {},
   "outputs": [],
   "source": [
    "plt.figure(figsize=(14, 10))\n",
    "\n",
    "sns.boxplot(x=df['grade'], y=df['price'], whis=1.0)\n",
    "\n",
    "plt.xlabel('Класс')\n",
    "plt.ylabel('Цена')\n",
    "plt.title('Распределение цен в зависимости от класса дома');"
   ]
  },
  {
   "cell_type": "markdown",
   "id": "e45e42a6",
   "metadata": {},
   "source": [
    "Вывод:\n",
    "\n",
    "    - с увеличением уровня класса (grade - качество конструкции и дизайна дома) растет разбег по цене;\n",
    "    - для домов с 7-11 классом наблюдается максимальное количество выбросов."
   ]
  },
  {
   "cell_type": "code",
   "execution_count": null,
   "id": "35e9e3c4",
   "metadata": {},
   "outputs": [],
   "source": [
    "plt.figure(figsize=(14, 10))\n",
    "sns.boxplot(x=df['price'], y=df['waterfront'].astype('str'), whis=1.5, hue=df['grade'])\n",
    "\n",
    "plt.title('Распределение цен по береговой линии')\n",
    "plt.xlabel('Цена')\n",
    "plt.ylabel('Наличия набережной');"
   ]
  },
  {
   "cell_type": "markdown",
   "id": "04254093",
   "metadata": {},
   "source": [
    "Вывод:\n",
    "\n",
    "    - уровень цен 50% домов, не имеющих набережную, значительно ниже, чем цена 50% домов, имеющих ее;\n",
    "    - для домов без набережной выбросов намного больше (видимо заинтересованность риелторов низкая по получаемой выручке и поэтому качество обработки данных теряеться);\n",
    "    - разбег цены для домов с набережной больше, чем для домов без нее."
   ]
  },
  {
   "cell_type": "code",
   "execution_count": null,
   "id": "56191d7d",
   "metadata": {},
   "outputs": [],
   "source": [
    "plt.figure(figsize = (14,10))\n",
    "sns.boxplot(x = df['price'], y = df['floors'].astype('str'), whis = 1.5)\n",
    "plt.xlabel('Цена')\n",
    "plt.ylabel('Этажность')\n",
    "plt.title('Стоимость/Этажность дома');"
   ]
  },
  {
   "cell_type": "markdown",
   "id": "c77bf829",
   "metadata": {},
   "source": [
    "Вывод:\n",
    "- наибольший разбег по ценам наблюдается для домов в 2,5 этажей;\n",
    "- минимальный разбег по ценам наблюдается для домов в 3,5 этажей;\n",
    "- по 2-этажным домам наблюдается максимальное количество выбросов;\n",
    "- дома с 3,5 этажами почти не имеют выбросов;\n",
    "- самый дорогой дом имеет 2,5 этажа и продается почти за 8 000 000 д.е."
   ]
  },
  {
   "cell_type": "code",
   "execution_count": null,
   "id": "de1a2bd5",
   "metadata": {},
   "outputs": [],
   "source": [
    "plt.figure(figsize = (14,10))\n",
    "sns.boxplot(x = df['price'], y = df['condition'].astype('str'), whis = 1.5)\n",
    "plt.xlabel('Цена')\n",
    "plt.ylabel('Состояние дома')\n",
    "plt.title('Стоимость/Оценка состояния');"
   ]
  },
  {
   "cell_type": "markdown",
   "id": "e967b460",
   "metadata": {},
   "source": [
    "Вывод:\n",
    "- дома, состояние которых оценивается в 1 и 2 почти не имеют выбросов;\n",
    "- по домам с состоянием в 3-4 наблюдаются максимальное количество выбросов;\n",
    "- для домов с состоянием в 3-5 более 75% наблюдений находится почти на одном и том же уровне цены;\n",
    "- самый дорогой дом имеет 2,5 этажа с хорошим состоянием и продается почти за 8 000 000 д.е."
   ]
  },
  {
   "cell_type": "markdown",
   "id": "8b2f7c6d",
   "metadata": {},
   "source": [
    "Вывод:\n",
    "1. На цену недвижимости влияют больше всего следующие параметры (в порядку убывания значимости):\n",
    "- жилая площадь;\n",
    "- качество конструкции и дизайна дома (класс);\n",
    "- историческую ценность;\n",
    "- размеры 15 соседних домов (Кв. метры жилой площади у 15 соседей).\n",
    "2. Хороше обслуживают клиентов по приобритению жилого фонда на набережной, т.к. риэлторы получают больше выручки от продаж.\n",
    "3. Редко продают дома с 3 и 5 этажами."
   ]
  }
 ],
 "metadata": {
  "kernelspec": {
   "display_name": "Python 3 (ipykernel)",
   "language": "python",
   "name": "python3"
  },
  "language_info": {
   "codemirror_mode": {
    "name": "ipython",
    "version": 3
   },
   "file_extension": ".py",
   "mimetype": "text/x-python",
   "name": "python",
   "nbconvert_exporter": "python",
   "pygments_lexer": "ipython3",
   "version": "3.12.4"
  }
 },
 "nbformat": 4,
 "nbformat_minor": 5
}
