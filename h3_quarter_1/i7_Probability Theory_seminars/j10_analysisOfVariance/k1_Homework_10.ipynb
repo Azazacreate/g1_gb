{
 "cells": [
  {
   "cell_type": "markdown",
   "id": "d143392f-a02b-41fd-a888-72175559a690",
   "metadata": {},
   "source": [
    "k1_Homework_10"
   ]
  },
  {
   "cell_type": "markdown",
   "id": "98f28684-27dc-41cc-b853-e7ff2484f0ca",
   "metadata": {},
   "source": [
    "Task_1"
   ]
  },
  {
   "cell_type": "code",
   "execution_count": 132,
   "id": "b302c198-3fcb-4f2c-8087-d167f7e8f550",
   "metadata": {},
   "outputs": [
    {
     "name": "stdout",
     "output_type": "stream",
     "text": [
      "5.500053450812596\n",
      "0.010482206918698694\n"
     ]
    }
   ],
   "source": [
    "import scipy.stats as stats\n",
    "import pandas as pd\n",
    "import numpy as np\n",
    "from statsmodels.stats.multicomp import pairwise_tukeyhsd\n",
    "\n",
    "\n",
    "players_football = [173, 175, 180, 178, 177, 185, 183, 182]\n",
    "players_hockey = [177, 179, 180, 188, 177, 172, 171, 184, 180]\n",
    "players_weightlifters = [172, 173, 169, 177, 166, 180, 178, 177, 172, 166, 170]\n",
    "\n",
    "f_statistic, p_value = stats.f_oneway(players_football,players_hockey, players_weightlifters)\n",
    "\n",
    "print(f_statistic)\n",
    "print(p_value)"
   ]
  },
  {
   "cell_type": "markdown",
   "id": "b6c1fba1-0a3c-4d3c-99a1-06ff5600d6bb",
   "metadata": {},
   "source": [
    "#### 1. ANOVA = однофакторный дисперсионный анализ.\n",
    "- F-статистика: 5.500053450812596.4f\n",
    "- p-значение: 0.010482206918698694.4f"
   ]
  },
  {
   "cell_type": "markdown",
   "id": "60f166ca-756d-4734-afe1-a039f5ea253b",
   "metadata": {},
   "source": [
    "#### 2. Уровень_значимости"
   ]
  },
  {
   "cell_type": "code",
   "execution_count": 135,
   "id": "64fd6c3f-5844-48a9-a30c-c11f62c7586a",
   "metadata": {},
   "outputs": [
    {
     "name": "stdout",
     "output_type": "stream",
     "text": [
      "Да, есть различия среднего роста среди взрослых футболистов, хоккеистов и штангистов\n"
     ]
    }
   ],
   "source": [
    "alpha = 0.5\n",
    "if p_value < alpha:\n",
    "    print(\"Да, есть различия среднего роста среди взрослых футболистов, хоккеистов и штангистов\")\n",
    "else:\n",
    "    print(\"Нет различий статистически значимых.\")"
   ]
  },
  {
   "cell_type": "markdown",
   "id": "7cdc62b5-72ea-437e-86d8-87d16aa52511",
   "metadata": {},
   "source": [
    "## Вывод_1: \n",
    "- Да, есть различия среднего роста среди игроков."
   ]
  },
  {
   "cell_type": "code",
   "execution_count": 137,
   "id": "df5f3b11-de89-4ff7-a051-0e765f041b7b",
   "metadata": {},
   "outputs": [
    {
     "name": "stdout",
     "output_type": "stream",
     "text": [
      "     Multiple Comparison of Means - Tukey HSD, FWER=0.05      \n",
      "==============================================================\n",
      " group1      group2    meandiff p-adj   lower    upper  reject\n",
      "--------------------------------------------------------------\n",
      "football        hockey  -0.4583  0.979  -6.2732  5.3566  False\n",
      "football weightlifters  -6.3977 0.0219 -11.9583 -0.8372   True\n",
      "  hockey weightlifters  -5.9394 0.0284 -11.3181 -0.5607   True\n",
      "--------------------------------------------------------------\n"
     ]
    }
   ],
   "source": [
    "df = pd.DataFrame({\"score\": [173, 175, 180, 178, 177, 185, 183, 182, \n",
    "                             177, 179, 180, 188, 177, 172, 171, 184, 180,\n",
    "                             172, 173, 169, 177, 166, 180, 178, 177, 172, 166, 170],\n",
    "                   \"group\": np.repeat([\"football\", \"hockey\", \"weightlifters\"], repeats = [8, 9, 11])})\n",
    "df\n",
    "\n",
    "tukey = pairwise_tukeyhsd(df[\"score\"], df[\"group\"], alpha = 0.05)\n",
    "print(tukey)"
   ]
  },
  {
   "cell_type": "markdown",
   "id": "41eac8a0-263c-4b3c-b3e1-824ac120e564",
   "metadata": {},
   "source": [
    "## Вывод итоговый: \n",
    "- нет различий в среднем росте между группами Футболистами и Хоккеистами.\n",
    "- есть различия в среднем росте между группами Футтболистами и Штангистами.\n",
    "- есть различия в среднем росте между Хоккеистами и Штангистами."
   ]
  }
 ],
 "metadata": {
  "kernelspec": {
   "display_name": "Python 3 (ipykernel)",
   "language": "python",
   "name": "python3"
  },
  "language_info": {
   "codemirror_mode": {
    "name": "ipython",
    "version": 3
   },
   "file_extension": ".py",
   "mimetype": "text/x-python",
   "name": "python",
   "nbconvert_exporter": "python",
   "pygments_lexer": "ipython3",
   "version": "3.12.4"
  }
 },
 "nbformat": 4,
 "nbformat_minor": 5
}
